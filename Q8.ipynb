{
 "cells": [
  {
   "cell_type": "markdown",
   "metadata": {
    "id": "v6RBFgKg0j4y"
   },
   "source": [
    "###  Read CSV"
   ]
  },
  {
   "cell_type": "code",
   "execution_count": 1,
   "metadata": {
    "colab": {
     "base_uri": "https://localhost:8080/",
     "height": 424
    },
    "id": "g4vs61DR0lEP",
    "outputId": "e77ac83d-ed7a-41bf-ed38-83573bf6183d"
   },
   "outputs": [
    {
     "data": {
      "text/html": [
       "<div>\n",
       "<style scoped>\n",
       "    .dataframe tbody tr th:only-of-type {\n",
       "        vertical-align: middle;\n",
       "    }\n",
       "\n",
       "    .dataframe tbody tr th {\n",
       "        vertical-align: top;\n",
       "    }\n",
       "\n",
       "    .dataframe thead th {\n",
       "        text-align: right;\n",
       "    }\n",
       "</style>\n",
       "<table border=\"1\" class=\"dataframe\">\n",
       "  <thead>\n",
       "    <tr style=\"text-align: right;\">\n",
       "      <th></th>\n",
       "      <th>outlook</th>\n",
       "      <th>temperature</th>\n",
       "      <th>humidity</th>\n",
       "      <th>windy</th>\n",
       "      <th>Money</th>\n",
       "      <th>Gender</th>\n",
       "      <th>Dating</th>\n",
       "    </tr>\n",
       "  </thead>\n",
       "  <tbody>\n",
       "    <tr>\n",
       "      <th>0</th>\n",
       "      <td>overcast</td>\n",
       "      <td>hot</td>\n",
       "      <td>high</td>\n",
       "      <td>weak</td>\n",
       "      <td>No</td>\n",
       "      <td>female</td>\n",
       "      <td>Yes</td>\n",
       "    </tr>\n",
       "    <tr>\n",
       "      <th>1</th>\n",
       "      <td>sunny</td>\n",
       "      <td>hot</td>\n",
       "      <td>normal</td>\n",
       "      <td>weak</td>\n",
       "      <td>Yes</td>\n",
       "      <td>female</td>\n",
       "      <td>Yes</td>\n",
       "    </tr>\n",
       "    <tr>\n",
       "      <th>2</th>\n",
       "      <td>sunny</td>\n",
       "      <td>mild</td>\n",
       "      <td>high</td>\n",
       "      <td>strong</td>\n",
       "      <td>No</td>\n",
       "      <td>female</td>\n",
       "      <td>Yes</td>\n",
       "    </tr>\n",
       "    <tr>\n",
       "      <th>3</th>\n",
       "      <td>rainy</td>\n",
       "      <td>cool</td>\n",
       "      <td>normal</td>\n",
       "      <td>weak</td>\n",
       "      <td>No</td>\n",
       "      <td>male</td>\n",
       "      <td>Yes</td>\n",
       "    </tr>\n",
       "    <tr>\n",
       "      <th>4</th>\n",
       "      <td>overcast</td>\n",
       "      <td>mild</td>\n",
       "      <td>normal</td>\n",
       "      <td>weak</td>\n",
       "      <td>Yes</td>\n",
       "      <td>female</td>\n",
       "      <td>Yes</td>\n",
       "    </tr>\n",
       "    <tr>\n",
       "      <th>5</th>\n",
       "      <td>overcast</td>\n",
       "      <td>cool</td>\n",
       "      <td>normal</td>\n",
       "      <td>weak</td>\n",
       "      <td>Yes</td>\n",
       "      <td>male</td>\n",
       "      <td>Yes</td>\n",
       "    </tr>\n",
       "    <tr>\n",
       "      <th>6</th>\n",
       "      <td>overcast</td>\n",
       "      <td>hot</td>\n",
       "      <td>normal</td>\n",
       "      <td>strong</td>\n",
       "      <td>No</td>\n",
       "      <td>male</td>\n",
       "      <td>No</td>\n",
       "    </tr>\n",
       "    <tr>\n",
       "      <th>7</th>\n",
       "      <td>sunny</td>\n",
       "      <td>mild</td>\n",
       "      <td>normal</td>\n",
       "      <td>strong</td>\n",
       "      <td>Yes</td>\n",
       "      <td>female</td>\n",
       "      <td>Yes</td>\n",
       "    </tr>\n",
       "    <tr>\n",
       "      <th>8</th>\n",
       "      <td>rainy</td>\n",
       "      <td>hot</td>\n",
       "      <td>high</td>\n",
       "      <td>strong</td>\n",
       "      <td>Yes</td>\n",
       "      <td>male</td>\n",
       "      <td>Yes</td>\n",
       "    </tr>\n",
       "    <tr>\n",
       "      <th>9</th>\n",
       "      <td>sunny</td>\n",
       "      <td>mild</td>\n",
       "      <td>normal</td>\n",
       "      <td>weak</td>\n",
       "      <td>No</td>\n",
       "      <td>female</td>\n",
       "      <td>No</td>\n",
       "    </tr>\n",
       "    <tr>\n",
       "      <th>10</th>\n",
       "      <td>overcast</td>\n",
       "      <td>mild</td>\n",
       "      <td>high</td>\n",
       "      <td>strong</td>\n",
       "      <td>No</td>\n",
       "      <td>female</td>\n",
       "      <td>Yes</td>\n",
       "    </tr>\n",
       "    <tr>\n",
       "      <th>11</th>\n",
       "      <td>sunny</td>\n",
       "      <td>hot</td>\n",
       "      <td>normal</td>\n",
       "      <td>weak</td>\n",
       "      <td>Yes</td>\n",
       "      <td>male</td>\n",
       "      <td>No</td>\n",
       "    </tr>\n",
       "    <tr>\n",
       "      <th>12</th>\n",
       "      <td>overcast</td>\n",
       "      <td>cool</td>\n",
       "      <td>high</td>\n",
       "      <td>weak</td>\n",
       "      <td>Yes</td>\n",
       "      <td>female</td>\n",
       "      <td>No</td>\n",
       "    </tr>\n",
       "    <tr>\n",
       "      <th>13</th>\n",
       "      <td>overcast</td>\n",
       "      <td>hot</td>\n",
       "      <td>high</td>\n",
       "      <td>strong</td>\n",
       "      <td>No</td>\n",
       "      <td>female</td>\n",
       "      <td>Yes</td>\n",
       "    </tr>\n",
       "    <tr>\n",
       "      <th>14</th>\n",
       "      <td>sunny</td>\n",
       "      <td>mild</td>\n",
       "      <td>high</td>\n",
       "      <td>weak</td>\n",
       "      <td>No</td>\n",
       "      <td>male</td>\n",
       "      <td>Yes</td>\n",
       "    </tr>\n",
       "    <tr>\n",
       "      <th>15</th>\n",
       "      <td>sunny</td>\n",
       "      <td>mild</td>\n",
       "      <td>normal</td>\n",
       "      <td>strong</td>\n",
       "      <td>No</td>\n",
       "      <td>male</td>\n",
       "      <td>No</td>\n",
       "    </tr>\n",
       "    <tr>\n",
       "      <th>16</th>\n",
       "      <td>rainy</td>\n",
       "      <td>mild</td>\n",
       "      <td>high</td>\n",
       "      <td>weak</td>\n",
       "      <td>No</td>\n",
       "      <td>male</td>\n",
       "      <td>No</td>\n",
       "    </tr>\n",
       "    <tr>\n",
       "      <th>17</th>\n",
       "      <td>overcast</td>\n",
       "      <td>hot</td>\n",
       "      <td>normal</td>\n",
       "      <td>weak</td>\n",
       "      <td>Yes</td>\n",
       "      <td>female</td>\n",
       "      <td>No</td>\n",
       "    </tr>\n",
       "    <tr>\n",
       "      <th>18</th>\n",
       "      <td>rainy</td>\n",
       "      <td>hot</td>\n",
       "      <td>high</td>\n",
       "      <td>strong</td>\n",
       "      <td>No</td>\n",
       "      <td>male</td>\n",
       "      <td>Yes</td>\n",
       "    </tr>\n",
       "    <tr>\n",
       "      <th>19</th>\n",
       "      <td>sunny</td>\n",
       "      <td>hot</td>\n",
       "      <td>normal</td>\n",
       "      <td>weak</td>\n",
       "      <td>NaN</td>\n",
       "      <td>male</td>\n",
       "      <td>Yes</td>\n",
       "    </tr>\n",
       "    <tr>\n",
       "      <th>20</th>\n",
       "      <td>sunny</td>\n",
       "      <td>mild</td>\n",
       "      <td>normal</td>\n",
       "      <td>strong</td>\n",
       "      <td>No</td>\n",
       "      <td>female</td>\n",
       "      <td>No</td>\n",
       "    </tr>\n",
       "    <tr>\n",
       "      <th>21</th>\n",
       "      <td>overcast</td>\n",
       "      <td>mild</td>\n",
       "      <td>normal</td>\n",
       "      <td>weak</td>\n",
       "      <td>Yes</td>\n",
       "      <td>male</td>\n",
       "      <td>Yes</td>\n",
       "    </tr>\n",
       "    <tr>\n",
       "      <th>22</th>\n",
       "      <td>rainy</td>\n",
       "      <td>mild</td>\n",
       "      <td>high</td>\n",
       "      <td>weak</td>\n",
       "      <td>Yes</td>\n",
       "      <td>female</td>\n",
       "      <td>Yes</td>\n",
       "    </tr>\n",
       "    <tr>\n",
       "      <th>23</th>\n",
       "      <td>overcast</td>\n",
       "      <td>hot</td>\n",
       "      <td>high</td>\n",
       "      <td>strong</td>\n",
       "      <td>No</td>\n",
       "      <td>female</td>\n",
       "      <td>No</td>\n",
       "    </tr>\n",
       "    <tr>\n",
       "      <th>24</th>\n",
       "      <td>rainy</td>\n",
       "      <td>mild</td>\n",
       "      <td>high</td>\n",
       "      <td>strong</td>\n",
       "      <td>Yes</td>\n",
       "      <td>male</td>\n",
       "      <td>No</td>\n",
       "    </tr>\n",
       "    <tr>\n",
       "      <th>25</th>\n",
       "      <td>sunny</td>\n",
       "      <td>hot</td>\n",
       "      <td>normal</td>\n",
       "      <td>strong</td>\n",
       "      <td>Yes</td>\n",
       "      <td>male</td>\n",
       "      <td>No</td>\n",
       "    </tr>\n",
       "    <tr>\n",
       "      <th>26</th>\n",
       "      <td>rainy</td>\n",
       "      <td>mild</td>\n",
       "      <td>normal</td>\n",
       "      <td>strong</td>\n",
       "      <td>No</td>\n",
       "      <td>female</td>\n",
       "      <td>Yes</td>\n",
       "    </tr>\n",
       "    <tr>\n",
       "      <th>27</th>\n",
       "      <td>overcast</td>\n",
       "      <td>cool</td>\n",
       "      <td>normal</td>\n",
       "      <td>weak</td>\n",
       "      <td>No</td>\n",
       "      <td>female</td>\n",
       "      <td>No</td>\n",
       "    </tr>\n",
       "    <tr>\n",
       "      <th>28</th>\n",
       "      <td>overcast</td>\n",
       "      <td>mild</td>\n",
       "      <td>high</td>\n",
       "      <td>weak</td>\n",
       "      <td>No</td>\n",
       "      <td>male</td>\n",
       "      <td>No</td>\n",
       "    </tr>\n",
       "    <tr>\n",
       "      <th>29</th>\n",
       "      <td>overcast</td>\n",
       "      <td>mild</td>\n",
       "      <td>normal</td>\n",
       "      <td>weak</td>\n",
       "      <td>No</td>\n",
       "      <td>female</td>\n",
       "      <td>Yes</td>\n",
       "    </tr>\n",
       "    <tr>\n",
       "      <th>...</th>\n",
       "      <td>...</td>\n",
       "      <td>...</td>\n",
       "      <td>...</td>\n",
       "      <td>...</td>\n",
       "      <td>...</td>\n",
       "      <td>...</td>\n",
       "      <td>...</td>\n",
       "    </tr>\n",
       "    <tr>\n",
       "      <th>970</th>\n",
       "      <td>rainy</td>\n",
       "      <td>cool</td>\n",
       "      <td>normal</td>\n",
       "      <td>weak</td>\n",
       "      <td>Yes</td>\n",
       "      <td>male</td>\n",
       "      <td>No</td>\n",
       "    </tr>\n",
       "    <tr>\n",
       "      <th>971</th>\n",
       "      <td>overcast</td>\n",
       "      <td>mild</td>\n",
       "      <td>high</td>\n",
       "      <td>strong</td>\n",
       "      <td>No</td>\n",
       "      <td>female</td>\n",
       "      <td>Yes</td>\n",
       "    </tr>\n",
       "    <tr>\n",
       "      <th>972</th>\n",
       "      <td>sunny</td>\n",
       "      <td>mild</td>\n",
       "      <td>high</td>\n",
       "      <td>strong</td>\n",
       "      <td>Yes</td>\n",
       "      <td>male</td>\n",
       "      <td>No</td>\n",
       "    </tr>\n",
       "    <tr>\n",
       "      <th>973</th>\n",
       "      <td>sunny</td>\n",
       "      <td>cool</td>\n",
       "      <td>normal</td>\n",
       "      <td>strong</td>\n",
       "      <td>Yes</td>\n",
       "      <td>female</td>\n",
       "      <td>Yes</td>\n",
       "    </tr>\n",
       "    <tr>\n",
       "      <th>974</th>\n",
       "      <td>sunny</td>\n",
       "      <td>mild</td>\n",
       "      <td>high</td>\n",
       "      <td>weak</td>\n",
       "      <td>No</td>\n",
       "      <td>male</td>\n",
       "      <td>Yes</td>\n",
       "    </tr>\n",
       "    <tr>\n",
       "      <th>975</th>\n",
       "      <td>overcast</td>\n",
       "      <td>cool</td>\n",
       "      <td>normal</td>\n",
       "      <td>strong</td>\n",
       "      <td>Yes</td>\n",
       "      <td>male</td>\n",
       "      <td>No</td>\n",
       "    </tr>\n",
       "    <tr>\n",
       "      <th>976</th>\n",
       "      <td>overcast</td>\n",
       "      <td>mild</td>\n",
       "      <td>high</td>\n",
       "      <td>weak</td>\n",
       "      <td>Yes</td>\n",
       "      <td>male</td>\n",
       "      <td>No</td>\n",
       "    </tr>\n",
       "    <tr>\n",
       "      <th>977</th>\n",
       "      <td>overcast</td>\n",
       "      <td>hot</td>\n",
       "      <td>normal</td>\n",
       "      <td>strong</td>\n",
       "      <td>No</td>\n",
       "      <td>male</td>\n",
       "      <td>No</td>\n",
       "    </tr>\n",
       "    <tr>\n",
       "      <th>978</th>\n",
       "      <td>sunny</td>\n",
       "      <td>mild</td>\n",
       "      <td>normal</td>\n",
       "      <td>weak</td>\n",
       "      <td>Yes</td>\n",
       "      <td>male</td>\n",
       "      <td>Yes</td>\n",
       "    </tr>\n",
       "    <tr>\n",
       "      <th>979</th>\n",
       "      <td>sunny</td>\n",
       "      <td>mild</td>\n",
       "      <td>normal</td>\n",
       "      <td>strong</td>\n",
       "      <td>No</td>\n",
       "      <td>female</td>\n",
       "      <td>No</td>\n",
       "    </tr>\n",
       "    <tr>\n",
       "      <th>980</th>\n",
       "      <td>rainy</td>\n",
       "      <td>hot</td>\n",
       "      <td>high</td>\n",
       "      <td>weak</td>\n",
       "      <td>No</td>\n",
       "      <td>female</td>\n",
       "      <td>No</td>\n",
       "    </tr>\n",
       "    <tr>\n",
       "      <th>981</th>\n",
       "      <td>rainy</td>\n",
       "      <td>cool</td>\n",
       "      <td>normal</td>\n",
       "      <td>strong</td>\n",
       "      <td>Yes</td>\n",
       "      <td>female</td>\n",
       "      <td>No</td>\n",
       "    </tr>\n",
       "    <tr>\n",
       "      <th>982</th>\n",
       "      <td>sunny</td>\n",
       "      <td>hot</td>\n",
       "      <td>high</td>\n",
       "      <td>weak</td>\n",
       "      <td>No</td>\n",
       "      <td>male</td>\n",
       "      <td>Yes</td>\n",
       "    </tr>\n",
       "    <tr>\n",
       "      <th>983</th>\n",
       "      <td>rainy</td>\n",
       "      <td>mild</td>\n",
       "      <td>high</td>\n",
       "      <td>strong</td>\n",
       "      <td>Yes</td>\n",
       "      <td>male</td>\n",
       "      <td>Yes</td>\n",
       "    </tr>\n",
       "    <tr>\n",
       "      <th>984</th>\n",
       "      <td>overcast</td>\n",
       "      <td>cool</td>\n",
       "      <td>normal</td>\n",
       "      <td>strong</td>\n",
       "      <td>Yes</td>\n",
       "      <td>female</td>\n",
       "      <td>Yes</td>\n",
       "    </tr>\n",
       "    <tr>\n",
       "      <th>985</th>\n",
       "      <td>sunny</td>\n",
       "      <td>cool</td>\n",
       "      <td>high</td>\n",
       "      <td>strong</td>\n",
       "      <td>No</td>\n",
       "      <td>female</td>\n",
       "      <td>Yes</td>\n",
       "    </tr>\n",
       "    <tr>\n",
       "      <th>986</th>\n",
       "      <td>rainy</td>\n",
       "      <td>mild</td>\n",
       "      <td>high</td>\n",
       "      <td>strong</td>\n",
       "      <td>No</td>\n",
       "      <td>female</td>\n",
       "      <td>No</td>\n",
       "    </tr>\n",
       "    <tr>\n",
       "      <th>987</th>\n",
       "      <td>sunny</td>\n",
       "      <td>hot</td>\n",
       "      <td>normal</td>\n",
       "      <td>weak</td>\n",
       "      <td>No</td>\n",
       "      <td>male</td>\n",
       "      <td>Yes</td>\n",
       "    </tr>\n",
       "    <tr>\n",
       "      <th>988</th>\n",
       "      <td>rainy</td>\n",
       "      <td>cool</td>\n",
       "      <td>normal</td>\n",
       "      <td>strong</td>\n",
       "      <td>NaN</td>\n",
       "      <td>female</td>\n",
       "      <td>No</td>\n",
       "    </tr>\n",
       "    <tr>\n",
       "      <th>989</th>\n",
       "      <td>sunny</td>\n",
       "      <td>cool</td>\n",
       "      <td>normal</td>\n",
       "      <td>strong</td>\n",
       "      <td>No</td>\n",
       "      <td>female</td>\n",
       "      <td>Yes</td>\n",
       "    </tr>\n",
       "    <tr>\n",
       "      <th>990</th>\n",
       "      <td>rainy</td>\n",
       "      <td>hot</td>\n",
       "      <td>normal</td>\n",
       "      <td>weak</td>\n",
       "      <td>No</td>\n",
       "      <td>female</td>\n",
       "      <td>No</td>\n",
       "    </tr>\n",
       "    <tr>\n",
       "      <th>991</th>\n",
       "      <td>overcast</td>\n",
       "      <td>hot</td>\n",
       "      <td>normal</td>\n",
       "      <td>weak</td>\n",
       "      <td>No</td>\n",
       "      <td>female</td>\n",
       "      <td>No</td>\n",
       "    </tr>\n",
       "    <tr>\n",
       "      <th>992</th>\n",
       "      <td>rainy</td>\n",
       "      <td>mild</td>\n",
       "      <td>normal</td>\n",
       "      <td>weak</td>\n",
       "      <td>Yes</td>\n",
       "      <td>female</td>\n",
       "      <td>Yes</td>\n",
       "    </tr>\n",
       "    <tr>\n",
       "      <th>993</th>\n",
       "      <td>sunny</td>\n",
       "      <td>cool</td>\n",
       "      <td>high</td>\n",
       "      <td>strong</td>\n",
       "      <td>No</td>\n",
       "      <td>male</td>\n",
       "      <td>Yes</td>\n",
       "    </tr>\n",
       "    <tr>\n",
       "      <th>994</th>\n",
       "      <td>rainy</td>\n",
       "      <td>hot</td>\n",
       "      <td>high</td>\n",
       "      <td>strong</td>\n",
       "      <td>No</td>\n",
       "      <td>male</td>\n",
       "      <td>Yes</td>\n",
       "    </tr>\n",
       "    <tr>\n",
       "      <th>995</th>\n",
       "      <td>sunny</td>\n",
       "      <td>hot</td>\n",
       "      <td>normal</td>\n",
       "      <td>weak</td>\n",
       "      <td>No</td>\n",
       "      <td>male</td>\n",
       "      <td>Yes</td>\n",
       "    </tr>\n",
       "    <tr>\n",
       "      <th>996</th>\n",
       "      <td>overcast</td>\n",
       "      <td>cool</td>\n",
       "      <td>normal</td>\n",
       "      <td>weak</td>\n",
       "      <td>No</td>\n",
       "      <td>male</td>\n",
       "      <td>No</td>\n",
       "    </tr>\n",
       "    <tr>\n",
       "      <th>997</th>\n",
       "      <td>sunny</td>\n",
       "      <td>cool</td>\n",
       "      <td>high</td>\n",
       "      <td>strong</td>\n",
       "      <td>No</td>\n",
       "      <td>male</td>\n",
       "      <td>Yes</td>\n",
       "    </tr>\n",
       "    <tr>\n",
       "      <th>998</th>\n",
       "      <td>overcast</td>\n",
       "      <td>cool</td>\n",
       "      <td>high</td>\n",
       "      <td>weak</td>\n",
       "      <td>Yes</td>\n",
       "      <td>female</td>\n",
       "      <td>Yes</td>\n",
       "    </tr>\n",
       "    <tr>\n",
       "      <th>999</th>\n",
       "      <td>overcast</td>\n",
       "      <td>cool</td>\n",
       "      <td>high</td>\n",
       "      <td>strong</td>\n",
       "      <td>Yes</td>\n",
       "      <td>female</td>\n",
       "      <td>No</td>\n",
       "    </tr>\n",
       "  </tbody>\n",
       "</table>\n",
       "<p>1000 rows × 7 columns</p>\n",
       "</div>"
      ],
      "text/plain": [
       "      outlook temperature humidity   windy Money  Gender Dating\n",
       "0    overcast         hot     high    weak    No  female    Yes\n",
       "1       sunny         hot   normal    weak   Yes  female    Yes\n",
       "2       sunny        mild     high  strong    No  female    Yes\n",
       "3       rainy        cool   normal    weak    No    male    Yes\n",
       "4    overcast        mild   normal    weak   Yes  female    Yes\n",
       "5    overcast        cool   normal    weak   Yes    male    Yes\n",
       "6    overcast         hot   normal  strong    No    male     No\n",
       "7       sunny        mild   normal  strong   Yes  female    Yes\n",
       "8       rainy         hot     high  strong   Yes    male    Yes\n",
       "9       sunny        mild   normal    weak    No  female     No\n",
       "10   overcast        mild     high  strong    No  female    Yes\n",
       "11      sunny         hot   normal    weak   Yes    male     No\n",
       "12   overcast        cool     high    weak   Yes  female     No\n",
       "13   overcast         hot     high  strong    No  female    Yes\n",
       "14      sunny        mild     high    weak    No    male    Yes\n",
       "15      sunny        mild   normal  strong    No    male     No\n",
       "16      rainy        mild     high    weak    No    male     No\n",
       "17   overcast         hot   normal    weak   Yes  female     No\n",
       "18      rainy         hot     high  strong    No    male    Yes\n",
       "19      sunny         hot   normal    weak   NaN    male    Yes\n",
       "20      sunny        mild   normal  strong    No  female     No\n",
       "21   overcast        mild   normal    weak   Yes    male    Yes\n",
       "22      rainy        mild     high    weak   Yes  female    Yes\n",
       "23   overcast         hot     high  strong    No  female     No\n",
       "24      rainy        mild     high  strong   Yes    male     No\n",
       "25      sunny         hot   normal  strong   Yes    male     No\n",
       "26      rainy        mild   normal  strong    No  female    Yes\n",
       "27   overcast        cool   normal    weak    No  female     No\n",
       "28   overcast        mild     high    weak    No    male     No\n",
       "29   overcast        mild   normal    weak    No  female    Yes\n",
       "..        ...         ...      ...     ...   ...     ...    ...\n",
       "970     rainy        cool   normal    weak   Yes    male     No\n",
       "971  overcast        mild     high  strong    No  female    Yes\n",
       "972     sunny        mild     high  strong   Yes    male     No\n",
       "973     sunny        cool   normal  strong   Yes  female    Yes\n",
       "974     sunny        mild     high    weak    No    male    Yes\n",
       "975  overcast        cool   normal  strong   Yes    male     No\n",
       "976  overcast        mild     high    weak   Yes    male     No\n",
       "977  overcast         hot   normal  strong    No    male     No\n",
       "978     sunny        mild   normal    weak   Yes    male    Yes\n",
       "979     sunny        mild   normal  strong    No  female     No\n",
       "980     rainy         hot     high    weak    No  female     No\n",
       "981     rainy        cool   normal  strong   Yes  female     No\n",
       "982     sunny         hot     high    weak    No    male    Yes\n",
       "983     rainy        mild     high  strong   Yes    male    Yes\n",
       "984  overcast        cool   normal  strong   Yes  female    Yes\n",
       "985     sunny        cool     high  strong    No  female    Yes\n",
       "986     rainy        mild     high  strong    No  female     No\n",
       "987     sunny         hot   normal    weak    No    male    Yes\n",
       "988     rainy        cool   normal  strong   NaN  female     No\n",
       "989     sunny        cool   normal  strong    No  female    Yes\n",
       "990     rainy         hot   normal    weak    No  female     No\n",
       "991  overcast         hot   normal    weak    No  female     No\n",
       "992     rainy        mild   normal    weak   Yes  female    Yes\n",
       "993     sunny        cool     high  strong    No    male    Yes\n",
       "994     rainy         hot     high  strong    No    male    Yes\n",
       "995     sunny         hot   normal    weak    No    male    Yes\n",
       "996  overcast        cool   normal    weak    No    male     No\n",
       "997     sunny        cool     high  strong    No    male    Yes\n",
       "998  overcast        cool     high    weak   Yes  female    Yes\n",
       "999  overcast        cool     high  strong   Yes  female     No\n",
       "\n",
       "[1000 rows x 7 columns]"
      ]
     },
     "execution_count": 1,
     "metadata": {},
     "output_type": "execute_result"
    }
   ],
   "source": [
    "import pandas as pd\n",
    "df = pd.read_csv('Dating2.csv')\n",
    "df"
   ]
  },
  {
   "cell_type": "markdown",
   "metadata": {
    "id": "74xNcyiY0j4z"
   },
   "source": [
    "### Missing Values"
   ]
  },
  {
   "cell_type": "markdown",
   "metadata": {
    "id": "5Banrrpn0j4z"
   },
   "source": [
    "#### จัดการกับ Missing Values"
   ]
  },
  {
   "cell_type": "markdown",
   "metadata": {
    "id": "iKNTlGZJ0j40"
   },
   "source": [
    "ตรวจสอบว่าพบค่า missing values ใน column ใดบ้าง"
   ]
  },
  {
   "cell_type": "code",
   "execution_count": 2,
   "metadata": {
    "colab": {
     "base_uri": "https://localhost:8080/"
    },
    "id": "Sds511ND1aNO",
    "outputId": "96f0a0b4-151e-4560-f242-264a74219ab2"
   },
   "outputs": [
    {
     "data": {
      "text/plain": [
       "outlook         0\n",
       "temperature     0\n",
       "humidity        0\n",
       "windy           0\n",
       "Money          89\n",
       "Gender          0\n",
       "Dating          0\n",
       "dtype: int64"
      ]
     },
     "execution_count": 2,
     "metadata": {},
     "output_type": "execute_result"
    }
   ],
   "source": [
    "df.isnull().sum()"
   ]
  },
  {
   "cell_type": "markdown",
   "metadata": {
    "id": "J200hCtM0j40"
   },
   "source": [
    "เลือก column ที่มีค่า missing value และแสดงค่าที่พบ"
   ]
  },
  {
   "cell_type": "code",
   "execution_count": 3,
   "metadata": {
    "colab": {
     "base_uri": "https://localhost:8080/"
    },
    "id": "1uYD14aY2EYE",
    "outputId": "8910f253-4850-4877-e1b2-27ad937a559f"
   },
   "outputs": [
    {
     "data": {
      "text/plain": [
       "No     459\n",
       "Yes    452\n",
       "Name: Money, dtype: int64"
      ]
     },
     "execution_count": 3,
     "metadata": {},
     "output_type": "execute_result"
    }
   ],
   "source": [
    "df['Money'].value_counts()"
   ]
  },
  {
   "cell_type": "markdown",
   "metadata": {
    "id": "jCneNRdX0j40"
   },
   "source": [
    "เปลี่ยนค่า missing values ของ column ที่พบค่า missing ด้วยค่าฐานนิยม"
   ]
  },
  {
   "cell_type": "code",
   "execution_count": 4,
   "metadata": {
    "id": "F9OUoj412eqt"
   },
   "outputs": [],
   "source": [
    "df['Money'] = df['Money'].astype(object).fillna(\"No\")"
   ]
  },
  {
   "cell_type": "markdown",
   "metadata": {
    "id": "i3wMQtAc0j40"
   },
   "source": [
    "ตรวจสอบอีกครั้งหลังจัดการกับค่า missing values ว่าพบค่า missing values หรือไม่"
   ]
  },
  {
   "cell_type": "code",
   "execution_count": 5,
   "metadata": {
    "colab": {
     "base_uri": "https://localhost:8080/"
    },
    "id": "sVVvd3j33CFV",
    "outputId": "764177a5-fdfa-4f63-afbd-fa6e2769f100"
   },
   "outputs": [
    {
     "data": {
      "text/plain": [
       "outlook        0\n",
       "temperature    0\n",
       "humidity       0\n",
       "windy          0\n",
       "Money          0\n",
       "Gender         0\n",
       "Dating         0\n",
       "dtype: int64"
      ]
     },
     "execution_count": 5,
     "metadata": {},
     "output_type": "execute_result"
    }
   ],
   "source": [
    "df.isna().sum()"
   ]
  },
  {
   "cell_type": "markdown",
   "metadata": {
    "id": "1OdHcjcD0j41"
   },
   "source": [
    "Converting string labels into numbers (Import LabelEncoder)"
   ]
  },
  {
   "cell_type": "code",
   "execution_count": 8,
   "metadata": {
    "colab": {
     "base_uri": "https://localhost:8080/"
    },
    "id": "VL_oqQI0m6rr",
    "outputId": "cbe803cb-c542-4e1d-ceb1-249c627ef26a"
   },
   "outputs": [
    {
     "name": "stdout",
     "output_type": "stream",
     "text": [
      "     outlook  temperature  humidity  windy  Money  Gender Dating\n",
      "0          0            1         0      1      0       0    Yes\n",
      "1          2            1         1      1      1       0    Yes\n",
      "2          2            2         0      0      0       0    Yes\n",
      "3          1            0         1      1      0       1    Yes\n",
      "4          0            2         1      1      1       0    Yes\n",
      "5          0            0         1      1      1       1    Yes\n",
      "6          0            1         1      0      0       1     No\n",
      "7          2            2         1      0      1       0    Yes\n",
      "8          1            1         0      0      1       1    Yes\n",
      "9          2            2         1      1      0       0     No\n",
      "10         0            2         0      0      0       0    Yes\n",
      "11         2            1         1      1      1       1     No\n",
      "12         0            0         0      1      1       0     No\n",
      "13         0            1         0      0      0       0    Yes\n",
      "14         2            2         0      1      0       1    Yes\n",
      "15         2            2         1      0      0       1     No\n",
      "16         1            2         0      1      0       1     No\n",
      "17         0            1         1      1      1       0     No\n",
      "18         1            1         0      0      0       1    Yes\n",
      "19         2            1         1      1      0       1    Yes\n",
      "20         2            2         1      0      0       0     No\n",
      "21         0            2         1      1      1       1    Yes\n",
      "22         1            2         0      1      1       0    Yes\n",
      "23         0            1         0      0      0       0     No\n",
      "24         1            2         0      0      1       1     No\n",
      "25         2            1         1      0      1       1     No\n",
      "26         1            2         1      0      0       0    Yes\n",
      "27         0            0         1      1      0       0     No\n",
      "28         0            2         0      1      0       1     No\n",
      "29         0            2         1      1      0       0    Yes\n",
      "..       ...          ...       ...    ...    ...     ...    ...\n",
      "970        1            0         1      1      1       1     No\n",
      "971        0            2         0      0      0       0    Yes\n",
      "972        2            2         0      0      1       1     No\n",
      "973        2            0         1      0      1       0    Yes\n",
      "974        2            2         0      1      0       1    Yes\n",
      "975        0            0         1      0      1       1     No\n",
      "976        0            2         0      1      1       1     No\n",
      "977        0            1         1      0      0       1     No\n",
      "978        2            2         1      1      1       1    Yes\n",
      "979        2            2         1      0      0       0     No\n",
      "980        1            1         0      1      0       0     No\n",
      "981        1            0         1      0      1       0     No\n",
      "982        2            1         0      1      0       1    Yes\n",
      "983        1            2         0      0      1       1    Yes\n",
      "984        0            0         1      0      1       0    Yes\n",
      "985        2            0         0      0      0       0    Yes\n",
      "986        1            2         0      0      0       0     No\n",
      "987        2            1         1      1      0       1    Yes\n",
      "988        1            0         1      0      0       0     No\n",
      "989        2            0         1      0      0       0    Yes\n",
      "990        1            1         1      1      0       0     No\n",
      "991        0            1         1      1      0       0     No\n",
      "992        1            2         1      1      1       0    Yes\n",
      "993        2            0         0      0      0       1    Yes\n",
      "994        1            1         0      0      0       1    Yes\n",
      "995        2            1         1      1      0       1    Yes\n",
      "996        0            0         1      1      0       1     No\n",
      "997        2            0         0      0      0       1    Yes\n",
      "998        0            0         0      1      1       0    Yes\n",
      "999        0            0         0      0      1       0     No\n",
      "\n",
      "[1000 rows x 7 columns]\n"
     ]
    }
   ],
   "source": [
    "# encode temp and play columns.\n",
    "# Converting string labels into numbers\n",
    "\n",
    "# Import LabelEncoder\n",
    "from sklearn import preprocessing\n",
    "\n",
    "#creating labelEncoder\n",
    "number = preprocessing.LabelEncoder()\n",
    "df['outlook'] = number.fit_transform(df['outlook'])\n",
    "df['temperature'] = number.fit_transform(df['temperature'])\n",
    "df['humidity'] = number.fit_transform(df['humidity'])\n",
    "df['windy'] = number.fit_transform(df['windy'])\n",
    "df['Money'] = number.fit_transform(df['Money'])\n",
    "df['Gender'] = number.fit_transform(df['Gender'])\n",
    "#df['Dating'] = number.fit_transform(df['Dating'])\n",
    "\n",
    "print(df)"
   ]
  },
  {
   "cell_type": "markdown",
   "metadata": {
    "id": "hAcBQm-Wm6rs"
   },
   "source": [
    "sklearn library, which can be found in sklearn.naive_bayes:\n",
    "\n",
    "sklearn.naive_bayes.CategoricalNB:\n",
    "    for using Naive Bayes on categorical predictor variables.\n",
    "            \n",
    "sklearn.naive_bayes.GaussianNB:\n",
    "    for Naive Bayes on numerical predictor variables, with the assumption\n",
    "    that these variables follow Gaussian distribution.\n",
    "    \n",
    "sklearn.naive_bayes.MultinomialNB:\n",
    "    the predictor variables represent the counts, a popular application\n",
    "    is in text classification. Fractional counts like tf-idf may also work.\n",
    "    \n",
    "sklearn.naive_bayes.ComplementNB:\n",
    "    A modification of MultinomialNB which is suitable for imbalanced datasets.\n",
    "    \n",
    "sklearn.naive_bayes.BernoulliNB:\n",
    "    assumes the data follows Bernoulli distribution (i.e. possible values of\n",
    "    predictor variables are 0 and 1)."
   ]
  },
  {
   "cell_type": "markdown",
   "metadata": {
    "id": "35o4Mw1D0j42"
   },
   "source": [
    "## NEW DATA SET"
   ]
  },
  {
   "cell_type": "markdown",
   "metadata": {
    "id": "fVbJ6CNF0j42"
   },
   "source": [
    "rainy,cool,high,strong,Yes,male"
   ]
  },
  {
   "cell_type": "markdown",
   "metadata": {
    "id": "p1tOKaKd0j42"
   },
   "source": [
    "### Naive Bayes"
   ]
  },
  {
   "cell_type": "markdown",
   "metadata": {
    "id": "p0mbAIJc0j42"
   },
   "source": [
    "#### Import Library of Naive Bayes"
   ]
  },
  {
   "cell_type": "code",
   "execution_count": 26,
   "metadata": {
    "id": "1Hr77Yb44UdF"
   },
   "outputs": [],
   "source": [
    "from sklearn.naive_bayes import GaussianNB"
   ]
  },
  {
   "cell_type": "markdown",
   "metadata": {
    "id": "ia9JJ2ze0j43"
   },
   "source": [
    "### GaussianNB"
   ]
  },
  {
   "cell_type": "code",
   "execution_count": 27,
   "metadata": {
    "colab": {
     "base_uri": "https://localhost:8080/",
     "height": 75
    },
    "id": "XcCP5-bj4Wv0",
    "outputId": "5d0e7508-f426-483b-9208-916e9eba5770"
   },
   "outputs": [
    {
     "data": {
      "text/plain": [
       "GaussianNB(priors=None)"
      ]
     },
     "execution_count": 27,
     "metadata": {},
     "output_type": "execute_result"
    }
   ],
   "source": [
    "clf = GaussianNB()\n",
    "clf.fit(df[['outlook','temperature','humidity','windy','Money','Gender']], df['Dating'])"
   ]
  },
  {
   "cell_type": "code",
   "execution_count": 30,
   "metadata": {
    "colab": {
     "base_uri": "https://localhost:8080/",
     "height": 210
    },
    "id": "WONqFOK151pV",
    "outputId": "f17ab4dd-f3bb-4d75-a6f9-345b170a5933"
   },
   "outputs": [
    {
     "name": "stdout",
     "output_type": "stream",
     "text": [
      "Predicted Value: ['No']\n"
     ]
    }
   ],
   "source": [
    "#Predict Output\n",
    "predicted = clf.predict([[1,0,0,1,1,1]])\n",
    "print(\"Predicted Value:\", predicted)"
   ]
  },
  {
   "cell_type": "markdown",
   "metadata": {
    "id": "8EKQxiUp0j43"
   },
   "source": [
    "### BernoulliNB"
   ]
  },
  {
   "cell_type": "code",
   "execution_count": 32,
   "metadata": {},
   "outputs": [
    {
     "name": "stdout",
     "output_type": "stream",
     "text": [
      "Predicted Value: ['No']\n"
     ]
    }
   ],
   "source": [
    "from sklearn.naive_bayes import BernoulliNB\n",
    "clf = BernoulliNB()\n",
    "clf.fit(df[['outlook','temperature','humidity','windy','Money','Gender']], df['Dating'])\n",
    "\n",
    "predicted = clf.predict([[1,0,0,1,1,1]])\n",
    "print(\"Predicted Value:\", predicted)"
   ]
  },
  {
   "cell_type": "markdown",
   "metadata": {
    "id": "c2FtmN1M0j43"
   },
   "source": [
    "### MultinomialNB"
   ]
  },
  {
   "cell_type": "code",
   "execution_count": 34,
   "metadata": {},
   "outputs": [
    {
     "name": "stdout",
     "output_type": "stream",
     "text": [
      "Predicted Value: ['No']\n"
     ]
    }
   ],
   "source": [
    "from sklearn.naive_bayes import MultinomialNB\n",
    "clf = MultinomialNB()\n",
    "clf.fit(df[['outlook','temperature','humidity','windy','Money','Gender']], df['Dating'])\n",
    "\n",
    "predicted = clf.predict([[1,0,0,1,1,1]])\n",
    "print(\"Predicted Value:\", predicted)"
   ]
  },
  {
   "cell_type": "markdown",
   "metadata": {
    "id": "y29LBpcH0j43"
   },
   "source": [
    "### Categorical"
   ]
  },
  {
   "cell_type": "code",
   "execution_count": 7,
   "metadata": {},
   "outputs": [
    {
     "name": "stdout",
     "output_type": "stream",
     "text": [
      "Predicted Value: ['No']\n"
     ]
    }
   ],
   "source": [
    "from sklearn.naive_bayes import CategoricalNB\n",
    "clf = CategoricalNB()\n",
    "clf.fit(df[['outlook','temperature','humidity','windy','Money','Gender']], df['Dating'])\n",
    "\n",
    "predicted = clf.predict([[1,0,0,1,1,1]])\n",
    "print(\"Predicted Value:\", predicted)"
   ]
  },
  {
   "cell_type": "markdown",
   "metadata": {
    "id": "sw5ttgcz0j43"
   },
   "source": [
    "### K-Nearest Neighbor"
   ]
  },
  {
   "cell_type": "markdown",
   "metadata": {
    "id": "7yq32PLb0j43"
   },
   "source": [
    "#### n_neighbors=3"
   ]
  },
  {
   "cell_type": "code",
   "execution_count": 9,
   "metadata": {},
   "outputs": [
    {
     "name": "stdout",
     "output_type": "stream",
     "text": [
      "Predicted Value: ['No']\n"
     ]
    }
   ],
   "source": [
    "from sklearn.neighbors import KNeighborsClassifier\n",
    "#Create a KNN Classifier\n",
    "KNN_model = KNeighborsClassifier(n_neighbors=3)\n",
    "\n",
    "# Train the model using the training sets\n",
    "# data =['outlook','temperature', 'humidity','windy'] ,class = 'play'\n",
    "clf.fit(df[['outlook','temperature','humidity','windy','Money','Gender']], df['Dating'])\n",
    "\n",
    "#Predict Output\n",
    "predicted = clf.predict([[1,0,0,1,1,1]])\n",
    "print(\"Predicted Value:\", predicted)"
   ]
  },
  {
   "cell_type": "markdown",
   "metadata": {
    "id": "F1ENgg4g0j43"
   },
   "source": [
    "#### n_neighbors=5"
   ]
  },
  {
   "cell_type": "code",
   "execution_count": 10,
   "metadata": {
    "id": "RTXDbhp-m6rz"
   },
   "outputs": [
    {
     "name": "stdout",
     "output_type": "stream",
     "text": [
      "Predicted Value: ['No']\n"
     ]
    }
   ],
   "source": [
    "from sklearn.neighbors import KNeighborsClassifier\n",
    "#Create a KNN Classifier\n",
    "KNN_model = KNeighborsClassifier(n_neighbors=5)\n",
    "\n",
    "# Train the model using the training sets\n",
    "# data =['outlook','temperature', 'humidity','windy'] ,class = 'play'\n",
    "clf.fit(df[['outlook','temperature','humidity','windy','Money','Gender']], df['Dating'])\n",
    "\n",
    "#Predict Output\n",
    "predicted = clf.predict([[1,0,0,1,1,1]])\n",
    "print(\"Predicted Value:\", predicted)"
   ]
  }
 ],
 "metadata": {
  "colab": {
   "provenance": []
  },
  "kernelspec": {
   "display_name": "Python 3",
   "language": "python",
   "name": "python3"
  },
  "language_info": {
   "codemirror_mode": {
    "name": "ipython",
    "version": 3
   },
   "file_extension": ".py",
   "mimetype": "text/x-python",
   "name": "python",
   "nbconvert_exporter": "python",
   "pygments_lexer": "ipython3",
   "version": "3.6.5"
  }
 },
 "nbformat": 4,
 "nbformat_minor": 1
}
