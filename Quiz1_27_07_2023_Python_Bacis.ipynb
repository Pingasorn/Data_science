{
  "cells": [
    {
      "cell_type": "markdown",
      "id": "b568ea86",
      "metadata": {
        "id": "b568ea86"
      },
      "source": [
        "# คำสั่ง\n",
        "- คะแนนควิซจะมีเพียง 2 แบบคือ 10 คะแนน และ 20 คะแนน\n",
        "     - 10 คะแนน เมื่อทำควิซได้ 50% ขึ้นไป (ตามดุลยพินิจของ พี่ Lab)\n",
        "     - 20 คะแนน เมื่อทำควิซได้ 100% (ถูกต้องและสมบูรณ์)\n",
        "        *หมายเหตุ คิดตามความยากไม่ใช่จำนวนข้อ\n",
        "- อนุญาตให้เพื่อนช่วยเหลือกันได้ด้วยวิธีการของปัญญาชน สอนหรืออธิบายต่างๆ\n",
        "     หากพบมีการทุจริตหรือสงสัยว่ามีการทุจริต และผู้ถูกกล่าวหาว่าทุจริตไม่สามารถพิสูจน์ความบริสุทธิ์ได้ ไม่มีคะแนนในการควิซครั้งนั้น และหากพบว่ามีการร่วมือกัน พิจารณาหักคะแนนผู้สมรู้ร่วมคิด\n",
        "- สามารถเรียก พี่ Lab มาตรวจควิซของตนเองได้เมื่อพร้อม หากไม่ได้เรียกพี่ Lab มาตรวจเท่ากับไม่ได้ส่งควิซ\n",
        "- เมื่อเวลาหมดลงหยุดการตรวจและส่งควิซทันที เพราะฉะนั้น **กรุณาบริหารเวลาให้ดี**"
      ]
    },
    {
      "cell_type": "markdown",
      "id": "1219f9b6",
      "metadata": {
        "id": "1219f9b6"
      },
      "source": [
        "### ข้อที่ 0-5 นับเป็น 50% รับ 10 คะแนน"
      ]
    },
    {
      "cell_type": "markdown",
      "id": "c08c8b5f",
      "metadata": {
        "nbgrader": {
          "grade": false,
          "grade_id": "cell-42b96fd90064f955",
          "locked": true,
          "schema_version": 3,
          "solution": false,
          "task": false
        },
        "id": "c08c8b5f"
      },
      "source": [
        "### 0. สร้างหัวข้อ (Heading) ตามรูปแบบด้านล่าง\n",
        "    - 630710473-Pattarapan Pingasorn"
      ]
    },
    {
      "cell_type": "markdown",
      "id": "6969c886",
      "metadata": {
        "id": "6969c886"
      },
      "source": [
        "# 630710473-Pattarapan Pingasorn"
      ]
    },
    {
      "cell_type": "markdown",
      "id": "d598ed44",
      "metadata": {
        "nbgrader": {
          "grade": false,
          "grade_id": "cell-5a0a5fce51c6f5d6",
          "locked": true,
          "schema_version": 3,
          "solution": false,
          "task": false
        },
        "id": "d598ed44"
      },
      "source": [
        "### 1. รับข้อความทางหน้าจอและพิมพ์ออกมา 3 ครั้งใน 1 บรรทัด\n",
        "    - input >> 5\n",
        "    - output >> 555"
      ]
    },
    {
      "cell_type": "code",
      "source": [
        "x = int(input())\n",
        "type(x)\n",
        "print(str(x)*3)"
      ],
      "metadata": {
        "colab": {
          "base_uri": "https://localhost:8080/"
        },
        "id": "T5-XhtNPxLGk",
        "outputId": "da21d407-b82e-4f97-cf9d-4767a5ffc008"
      },
      "id": "T5-XhtNPxLGk",
      "execution_count": null,
      "outputs": [
        {
          "output_type": "stream",
          "name": "stdout",
          "text": [
            "5\n",
            "555\n"
          ]
        }
      ]
    },
    {
      "cell_type": "markdown",
      "id": "359beb2b",
      "metadata": {
        "nbgrader": {
          "grade": false,
          "grade_id": "cell-798e6b526c176fe2",
          "locked": true,
          "schema_version": 3,
          "solution": false,
          "task": false
        },
        "id": "359beb2b"
      },
      "source": [
        "### 2. รับค่าเป็นจำนวนจริง 3 จำนวน และพิมพ์ค่าเฉลี่ยของจำนวนทั้งสาม"
      ]
    },
    {
      "cell_type": "code",
      "source": [
        "x = int(input())\n",
        "y = int(input())\n",
        "z = int(input())\n",
        "Av = (x+y+z)/3\n",
        "print(Av)"
      ],
      "metadata": {
        "colab": {
          "base_uri": "https://localhost:8080/"
        },
        "id": "YZHk7fhSyHhq",
        "outputId": "1338bcc0-84f2-4c10-cf67-7992216f27c9"
      },
      "id": "YZHk7fhSyHhq",
      "execution_count": null,
      "outputs": [
        {
          "output_type": "stream",
          "name": "stdout",
          "text": [
            "3\n",
            "3\n",
            "3\n",
            "3.0\n"
          ]
        }
      ]
    },
    {
      "cell_type": "markdown",
      "id": "c73a0b2f",
      "metadata": {
        "nbgrader": {
          "grade": false,
          "grade_id": "cell-19676faa0ee93fbf",
          "locked": true,
          "schema_version": 3,
          "solution": false,
          "task": false
        },
        "id": "c73a0b2f"
      },
      "source": [
        "### 3. จงตรวจสอบชนิดของข้อมูลในตัวแปร text4"
      ]
    },
    {
      "cell_type": "code",
      "execution_count": null,
      "id": "cf4eadb6",
      "metadata": {
        "nbgrader": {
          "grade": false,
          "grade_id": "cell-e549f0a936481ccc",
          "locked": true,
          "schema_version": 3,
          "solution": false,
          "task": false
        },
        "id": "cf4eadb6"
      },
      "outputs": [],
      "source": [
        "text4 = \"His happiness May not be us\""
      ]
    },
    {
      "cell_type": "code",
      "source": [
        "print(type(text4))"
      ],
      "metadata": {
        "colab": {
          "base_uri": "https://localhost:8080/"
        },
        "id": "oJtn1Nomzad-",
        "outputId": "c86ef6f0-3c95-4c2f-d313-65ff6df4ea93"
      },
      "id": "oJtn1Nomzad-",
      "execution_count": null,
      "outputs": [
        {
          "output_type": "stream",
          "name": "stdout",
          "text": [
            "<class 'str'>\n"
          ]
        }
      ]
    },
    {
      "cell_type": "markdown",
      "id": "9685fb5e",
      "metadata": {
        "nbgrader": {
          "grade": false,
          "grade_id": "cell-af70732745590d95",
          "locked": true,
          "schema_version": 3,
          "solution": false,
          "task": false
        },
        "id": "9685fb5e"
      },
      "source": [
        "### 4. พิมพ์ค่าที่ใน thislist ออกมาตั้งแต่ Index 4-10 เป็นต้นไป"
      ]
    },
    {
      "cell_type": "code",
      "execution_count": null,
      "id": "8af5ac36",
      "metadata": {
        "nbgrader": {
          "grade": false,
          "grade_id": "cell-5fd545b27199c83c",
          "locked": true,
          "schema_version": 3,
          "solution": false,
          "task": false
        },
        "id": "8af5ac36"
      },
      "outputs": [],
      "source": [
        "thislist = ['Love', 'is', 'not', 'finding', 'someone', 'to', 'live', 'with;', \"it's\", 'finding', 'someone', 'you', \"can't\", 'live', 'without.']"
      ]
    },
    {
      "cell_type": "code",
      "source": [
        "print(thislist[4:11])"
      ],
      "metadata": {
        "colab": {
          "base_uri": "https://localhost:8080/"
        },
        "id": "4IA9QTT9zpsR",
        "outputId": "727a8839-597c-4d6e-8559-6c94293a750f"
      },
      "id": "4IA9QTT9zpsR",
      "execution_count": null,
      "outputs": [
        {
          "output_type": "stream",
          "name": "stdout",
          "text": [
            "['someone', 'to', 'live', 'with;', \"it's\", 'finding', 'someone']\n"
          ]
        }
      ]
    },
    {
      "cell_type": "markdown",
      "id": "2db41c54",
      "metadata": {
        "id": "2db41c54"
      },
      "source": [
        "### 5.จงเขียนโปรแกรมหาผลลัพธ์จากตัวแปร text"
      ]
    },
    {
      "cell_type": "code",
      "execution_count": null,
      "id": "34d0126f",
      "metadata": {
        "id": "34d0126f"
      },
      "outputs": [],
      "source": [
        "# import math module\n",
        "import math\n",
        "x = 500\n",
        "y = 121\n",
        "z = 44\n",
        "setNum = [1,2,3,4,5,6,7,8,9,9,8,7,6,5,4,3,2,1]\n",
        "\n",
        "text = \"int(y*math.sqrt(x+5+5*5-5)+(z**3)+sum(setNum))\""
      ]
    },
    {
      "cell_type": "code",
      "source": [
        "text = int(y*math.sqrt(x+5+5*5-5)+(z**3)+sum(setNum))\n",
        "print(text)"
      ],
      "metadata": {
        "colab": {
          "base_uri": "https://localhost:8080/"
        },
        "id": "ljC3s0uf0w60",
        "outputId": "603af7c5-04af-4768-b087-38ab7c433a45"
      },
      "id": "ljC3s0uf0w60",
      "execution_count": null,
      "outputs": [
        {
          "output_type": "stream",
          "name": "stdout",
          "text": [
            "88046\n"
          ]
        }
      ]
    },
    {
      "cell_type": "markdown",
      "id": "8bb43686",
      "metadata": {
        "id": "8bb43686"
      },
      "source": [
        " ### 6. จงเขียนโปรงแกรมเรียงจัดเรียงตัวอักษรใหม่\n",
        "โดยนับตัวอักษรจากตำแหน่งแรกของลิสต์ star ต่อด้วยตัวอักษรจากตำแหน่งสุดท้ายของลิสต์ wars\n",
        "และขยับตำแหน่งของลิสต์ star ขึ้น 1 ตำแหน่ง ในขณะเดียวกับก็ลดตำแหน่งของลิสต์ war ลง 1 ตำแหน่ง\n",
        "แล้วจึงจัดเรียงต่อกันทำเช่นนี้จนครบทุกตำแหน่งของลิตส์ทั้งสอง\n",
        "\n",
        "ตัวอย่าง\n",
        "```python\n",
        "     star = ['s','t','a','r']\n",
        "     wars = ['w','a','r','s']\n",
        "\n",
        "output\n",
        "     sstraarw\n",
        "```"
      ]
    },
    {
      "cell_type": "code",
      "execution_count": null,
      "id": "a13d03c5",
      "metadata": {
        "id": "a13d03c5"
      },
      "outputs": [],
      "source": [
        "star = ['D', 'n', 't', 'w', 'r', 'y', ' ', 'T', 'e', 'f', 'r', 'e', 'w', 'l', ' ', 'u', 'd', ' ', 'o', '.']\n",
        "\n",
        "\n",
        "wars = ['o', \"'\", ' ', 'o', 'r', '.', '\"', 'h', ' ', 'o', 'c', ' ', 'i', 'l', 'g', 'i', 'e', 'y', 'u','\"']"
      ]
    },
    {
      "cell_type": "code",
      "source": [
        "for i in range(len(star)):\n",
        "  print(star[i],end='')\n",
        "  print(wars[i],end='')"
      ],
      "metadata": {
        "colab": {
          "base_uri": "https://localhost:8080/"
        },
        "id": "HeH8HZjx0412",
        "outputId": "e249630c-199e-47db-c5bf-9df7486cca6f"
      },
      "id": "HeH8HZjx0412",
      "execution_count": null,
      "outputs": [
        {
          "output_type": "stream",
          "name": "stdout",
          "text": [
            "Don't worry. \"The force will guide you.\""
          ]
        }
      ]
    },
    {
      "cell_type": "markdown",
      "source": [
        "**OUTPUT**\n",
        "\n",
        "Don't worry. “The force will guide you.”\n"
      ],
      "metadata": {
        "id": "WKx1GpV8VE29"
      },
      "id": "WKx1GpV8VE29"
    }
  ],
  "metadata": {
    "celltoolbar": "Create Assignment",
    "kernelspec": {
      "display_name": "Python 3 (ipykernel)",
      "language": "python",
      "name": "python3"
    },
    "language_info": {
      "codemirror_mode": {
        "name": "ipython",
        "version": 3
      },
      "file_extension": ".py",
      "mimetype": "text/x-python",
      "name": "python",
      "nbconvert_exporter": "python",
      "pygments_lexer": "ipython3",
      "version": "3.10.8"
    },
    "colab": {
      "provenance": []
    }
  },
  "nbformat": 4,
  "nbformat_minor": 5
}